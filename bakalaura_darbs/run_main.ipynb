{
 "cells": [
  {
   "cell_type": "code",
   "execution_count": null,
   "id": "1a8c8d04",
   "metadata": {
    "scrolled": false
   },
   "outputs": [
    {
     "name": "stdout",
     "output_type": "stream",
     "text": [
      "Turn # 1 by player black\n",
      "h6 g5\n",
      "Turn # 2 by player white\n",
      "a3 b4\n",
      "Turn # 3 by player black\n",
      "d6 e5\n",
      "Turn # 4 by player white\n",
      "c3 d4\n",
      "Turn # 5 by player black\n",
      "e5 c3\n",
      "Turn # 6 by player white\n",
      "b2 d4\n",
      "Turn # 7 by player black\n",
      "c7 d6\n",
      "Turn # 8 by player white\n",
      "a1 b2\n",
      "Turn # 9 by player black\n"
     ]
    }
   ],
   "source": [
    "%run main.ipynb"
   ]
  },
  {
   "cell_type": "code",
   "execution_count": null,
   "id": "2ff530d8",
   "metadata": {},
   "outputs": [],
   "source": []
  }
 ],
 "metadata": {
  "kernelspec": {
   "display_name": "Python 3 (ipykernel)",
   "language": "python",
   "name": "python3"
  },
  "language_info": {
   "codemirror_mode": {
    "name": "ipython",
    "version": 3
   },
   "file_extension": ".py",
   "mimetype": "text/x-python",
   "name": "python",
   "nbconvert_exporter": "python",
   "pygments_lexer": "ipython3",
   "version": "3.10.9"
  }
 },
 "nbformat": 4,
 "nbformat_minor": 5
}
